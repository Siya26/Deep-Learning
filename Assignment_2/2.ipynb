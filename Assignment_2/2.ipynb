{
 "cells": [
  {
   "cell_type": "markdown",
   "metadata": {},
   "source": [
    "Generating Data"
   ]
  },
  {
   "cell_type": "code",
   "execution_count": 24,
   "metadata": {},
   "outputs": [],
   "source": [
    "import numpy as np\n",
    "import random\n",
    "import torch\n",
    "\n",
    "def generate(n, p):\n",
    "    numbers = [p-1, p]\n",
    "    probabilities = [0.5, 0.5]\n",
    "    data = []\n",
    "\n",
    "    for i in range(n):\n",
    "        arr = np.zeros((p+1, p+1))\n",
    "        x = np.random.choice(numbers, size=1, p=probabilities)\n",
    "        \n",
    "        arr[x[0]][0] = 1\n",
    "        arr[x[0]][p] = 1\n",
    "       \n",
    "        num = []\n",
    "        for j in range(p-1):\n",
    "            num.append(random.randint(0, p-2))\n",
    "\n",
    "        num.sort()\n",
    "\n",
    "        for j in range(1, p):\n",
    "            arr[num[j-1]][j] = 1\n",
    "\n",
    "        arr = arr.T\n",
    "        data.append(arr)\n",
    "        \n",
    "    data = np.array(data)\n",
    "    data = torch.from_numpy(data).float()\n",
    "    return data\n",
    "\n",
    "data = generate(2000, 100)"
   ]
  },
  {
   "cell_type": "markdown",
   "metadata": {},
   "source": [
    "Splitting Data"
   ]
  },
  {
   "cell_type": "code",
   "execution_count": 25,
   "metadata": {},
   "outputs": [
    {
     "name": "stdout",
     "output_type": "stream",
     "text": [
      "torch.Size([2000, 100, 101])\n",
      "torch.Size([2000, 101])\n"
     ]
    }
   ],
   "source": [
    "#split data into x_train and y_train\n",
    "x_train = data[:, :-1, :]\n",
    "y_train = data[:, -1, :]\n",
    "\n",
    "print(x_train.shape)\n",
    "print(y_train.shape)"
   ]
  },
  {
   "cell_type": "markdown",
   "metadata": {},
   "source": [
    "RNN Class"
   ]
  },
  {
   "cell_type": "code",
   "execution_count": 27,
   "metadata": {},
   "outputs": [],
   "source": [
    "import torch.nn as nn\n",
    "\n",
    "class RNN(nn.Module):\n",
    "    def __init__(self, input_size, hidden_size, output_size, num_layers):\n",
    "        super(RNN, self).__init__()\n",
    "        self.num_layers = num_layers\n",
    "        self.hidden_size = hidden_size\n",
    "        self.rnn = nn.RNN(input_size, hidden_size, num_layers, batch_first=True)\n",
    "\n",
    "        self.linear = nn.Linear(hidden_size, output_size)\n",
    "\n",
    "\n",
    "    def forward(self, x):\n",
    "        h = torch.zeros(self.num_layers, x.size(0), self.hidden_size)\n",
    "        out, _ = self.rnn(x, h)\n",
    "        out = self.linear(out[:, -1, :])\n",
    "        \n",
    "        return out"
   ]
  },
  {
   "cell_type": "markdown",
   "metadata": {},
   "source": [
    "LSTM Class"
   ]
  },
  {
   "cell_type": "code",
   "execution_count": 18,
   "metadata": {},
   "outputs": [],
   "source": [
    "class LSTM(nn.Module):\n",
    "    def __init__(self, input_size, hidden_size, output_size, num_layers):\n",
    "        super(LSTM, self).__init__()\n",
    "        self.num_layers = num_layers\n",
    "        self.hidden_size = hidden_size\n",
    "        self.lstm = nn.LSTM(input_size, hidden_size, num_layers, batch_first=True)\n",
    "        self.linear = nn.Linear(hidden_size, output_size)\n",
    "\n",
    "\n",
    "    def forward(self, x):\n",
    "        h = torch.zeros(self.num_layers, x.size(0), self.hidden_size)\n",
    "        c = torch.zeros(self.num_layers, x.size(0), self.hidden_size)\n",
    "        out, _ = self.lstm(x, (h, c))\n",
    "        out = self.linear(out[:, -1, :])\n",
    "        \n",
    "        return out"
   ]
  },
  {
   "cell_type": "markdown",
   "metadata": {},
   "source": [
    "Train function"
   ]
  },
  {
   "cell_type": "code",
   "execution_count": 5,
   "metadata": {},
   "outputs": [],
   "source": [
    "#train the model\n",
    "def train_model(model, criterion, optimizer, num_epochs, batch_size):\n",
    "    loss_list = []\n",
    "    epoch_list = []\n",
    "    \n",
    "    for epoch in range(num_epochs): \n",
    "        sum = 0\n",
    "        for i in range(int(x_train.shape[0] / batch_size)):\n",
    "            optimizer.zero_grad()\n",
    "\n",
    "            inputs = x_train[i * batch_size:(i+1) * batch_size]\n",
    "            labels = y_train[i * batch_size:(i+1) * batch_size]\n",
    "\n",
    "            outputs = model(inputs)\n",
    "            #print(outputs.shape, labels.shape)\n",
    "            loss = criterion(outputs, labels)\n",
    "            sum += loss.item()\n",
    "\n",
    "            loss.backward()\n",
    "            optimizer.step()\n",
    "        \n",
    "        loss_list.append(sum / x_train.shape[0])\n",
    "        if (epoch + 1) % 10 == 0:\n",
    "                print('Epoch [{}/{}], Loss: {:.6f}'.format(epoch + 1, num_epochs, sum / x_train.shape[0]))\n",
    "\n",
    "        epoch_list.append(epoch + 1)\n",
    "\n",
    "    return loss_list, epoch_list"
   ]
  },
  {
   "cell_type": "markdown",
   "metadata": {},
   "source": [
    "RNN"
   ]
  },
  {
   "cell_type": "code",
   "execution_count": 31,
   "metadata": {},
   "outputs": [
    {
     "name": "stdout",
     "output_type": "stream",
     "text": [
      "Epoch [10/100], Loss: 0.034786\n",
      "Epoch [20/100], Loss: 0.034702\n",
      "Epoch [30/100], Loss: 0.034662\n",
      "Epoch [40/100], Loss: 0.034627\n",
      "Epoch [50/100], Loss: 0.000127\n",
      "Epoch [60/100], Loss: 0.000031\n",
      "Epoch [70/100], Loss: 0.000013\n",
      "Epoch [80/100], Loss: 0.000007\n",
      "Epoch [90/100], Loss: 0.000004\n",
      "Epoch [100/100], Loss: 0.000002\n"
     ]
    },
    {
     "data": {
      "image/png": "[encoded data removed]",
      "text/plain": [
       "<Figure size 640x480 with 1 Axes>"
      ]
     },
     "metadata": {},
     "output_type": "display_data"
    }
   ],
   "source": [
    "#pass input to RNN\n",
    "import matplotlib.pyplot as plt\n",
    "input_size = 101\n",
    "hidden_size = 64\n",
    "output_size = 101\n",
    "\n",
    "rnn_model = RNN(input_size, hidden_size, output_size, num_layers=1)\n",
    "\n",
    "criterion = nn.CrossEntropyLoss()\n",
    "optimizer = torch.optim.Adam(rnn_model.parameters(), lr=0.001)\n",
    "\n",
    "#train the model\n",
    "loss_list, epoch_list =  train_model(rnn_model, criterion, optimizer, num_epochs=100, batch_size=20)\n",
    "plt.plot(epoch_list, loss_list)\n",
    "plt.title('Training Loss vs Epochs')\n",
    "plt.xlabel('Epochs')\n",
    "plt.ylabel('Loss for mini-batch of size 20')\n",
    "plt.show()"
   ]
  },
  {
   "cell_type": "markdown",
   "metadata": {},
   "source": [
    "LSTM"
   ]
  },
  {
   "cell_type": "code",
   "execution_count": 32,
   "metadata": {},
   "outputs": [
    {
     "name": "stdout",
     "output_type": "stream",
     "text": [
      "Epoch [10/100], Loss: 0.034758\n",
      "Epoch [20/100], Loss: 0.034681\n",
      "Epoch [30/100], Loss: 0.034624\n",
      "Epoch [40/100], Loss: 0.034581\n",
      "Epoch [50/100], Loss: 0.034544\n",
      "Epoch [60/100], Loss: 0.034511\n",
      "Epoch [70/100], Loss: 0.034484\n",
      "Epoch [80/100], Loss: 0.034457\n",
      "Epoch [90/100], Loss: 0.034405\n",
      "Epoch [100/100], Loss: 0.034257\n"
     ]
    },
    {
     "data": {
      "image/png": "[encoded data removed]",
      "text/plain": [
       "<Figure size 640x480 with 1 Axes>"
      ]
     },
     "metadata": {},
     "output_type": "display_data"
    }
   ],
   "source": [
    "#pass input to LSTM\n",
    "input_size = 101\n",
    "hidden_size = 64\n",
    "output_size = 101\n",
    "\n",
    "lstm_model = LSTM(input_size, hidden_size, output_size, num_layers=1)\n",
    "\n",
    "criterion = nn.CrossEntropyLoss()\n",
    "optimizer = torch.optim.Adam(lstm_model.parameters(), lr=0.001)\n",
    "\n",
    "#train the model\n",
    "loss_list, epoch_list =  train_model(lstm_model, criterion, optimizer, num_epochs=100, batch_size=20)\n",
    "plt.plot(epoch_list, loss_list)\n",
    "plt.title('Training Loss vs Epochs')\n",
    "plt.xlabel('Epochs')\n",
    "plt.ylabel('Loss for mini-batch of size 20')\n",
    "plt.show()"
   ]
  },
  {
   "cell_type": "markdown",
   "metadata": {},
   "source": [
    "Generate test data"
   ]
  },
  {
   "cell_type": "code",
   "execution_count": 7,
   "metadata": {},
   "outputs": [
    {
     "name": "stdout",
     "output_type": "stream",
     "text": [
      "torch.Size([3000, 100, 101])\n",
      "torch.Size([3000, 101])\n"
     ]
    }
   ],
   "source": [
    "test_data = generate(3000, 100)\n",
    "\n",
    "#split data into x_test and y_test\n",
    "x_test = test_data[:, :-1, :]\n",
    "y_test = test_data[:, -1, :]\n",
    "\n",
    "print(x_test.shape)\n",
    "print(y_test.shape)"
   ]
  },
  {
   "cell_type": "markdown",
   "metadata": {},
   "source": [
    "Test function"
   ]
  },
  {
   "cell_type": "code",
   "execution_count": 35,
   "metadata": {},
   "outputs": [],
   "source": [
    "#test the model\n",
    "from sklearn.metrics import accuracy_score\n",
    "def test_model(model, criterion):\n",
    "    with torch.no_grad():\n",
    "        outputs = model(x_test)\n",
    "        loss = criterion(outputs, y_test)\n",
    "        print('Test Loss: {:.6f}'.format(loss.item()))\n",
    "\n",
    "        _, predicted = torch.max(outputs.data, 1)\n",
    "        predicted = predicted.tolist()\n",
    "\n",
    "        y_test_flat = y_test.argmax(dim=1).tolist()\n",
    "\n",
    "        print('Accuracy: {:.6f}'.format(accuracy_score(y_test_flat, predicted)))    "
   ]
  },
  {
   "cell_type": "markdown",
   "metadata": {},
   "source": [
    "RNN"
   ]
  },
  {
   "cell_type": "code",
   "execution_count": 38,
   "metadata": {},
   "outputs": [
    {
     "name": "stdout",
     "output_type": "stream",
     "text": [
      "Test Loss: 0.000045\n",
      "Accuracy: 1.000000\n",
      "No of wrong predictions:  0.0\n"
     ]
    }
   ],
   "source": [
    "criterion = nn.CrossEntropyLoss()\n",
    "test_model(rnn_model, criterion)\n",
    "\n",
    "#calculate no of wrong predictions\n",
    "def wrong_predictions(model):\n",
    "    count = 0\n",
    "    for i in range(10):\n",
    "        test_data = generate(3000, 100)\n",
    "        with torch.no_grad():\n",
    "            x_test = test_data[:, :-1, :]\n",
    "            y_test = test_data[:, -1, :]\n",
    "\n",
    "            outputs = model(x_test)\n",
    "            _, predicted = torch.max(outputs.data, 1)\n",
    "            predicted = predicted.tolist()\n",
    "\n",
    "            y_test_flat = y_test.argmax(dim=1).tolist()\n",
    "\n",
    "            for i in range(len(predicted)):\n",
    "                if predicted[i] != y_test_flat[i]:\n",
    "                    count += 1\n",
    "\n",
    "    print('No of wrong predictions: ', count/10)\n",
    "\n",
    "wrong_predictions(rnn_model)"
   ]
  },
  {
   "cell_type": "markdown",
   "metadata": {},
   "source": [
    "LSTM"
   ]
  },
  {
   "cell_type": "code",
   "execution_count": 39,
   "metadata": {},
   "outputs": [
    {
     "name": "stdout",
     "output_type": "stream",
     "text": [
      "Test Loss: 0.699133\n",
      "Accuracy: 0.508667\n",
      "No of wrong predictions:  1500.1\n"
     ]
    }
   ],
   "source": [
    "criterion = nn.CrossEntropyLoss()\n",
    "test_model(lstm_model, criterion)\n",
    "\n",
    "wrong_predictions(lstm_model)"
   ]
  },
  {
   "cell_type": "markdown",
   "metadata": {},
   "source": [
    "Architecture used:\n",
    "- Input size: 101\n",
    "- Hidden size: 64\n",
    "- Output size: 101\n",
    "- No. of layers: 1\n",
    "- Loss: CrossEntropy\n",
    "- Optimizer: Adam\n",
    "- Learning rate: 0.001\n",
    "- Epochs: 100\n",
    "- Batch_size: 20\n",
    "- Time steps: 100\n",
    "- No of training samples: 2000"
   ]
  },
  {
   "cell_type": "markdown",
   "metadata": {},
   "source": [
    "Result:\n",
    "- RNN has a better accuracy (1) than LSTM (0.5)"
   ]
  }
 ],
 "metadata": {
  "kernelspec": {
   "display_name": "Python 3",
   "language": "python",
   "name": "python3"
  },
  "language_info": {
   "codemirror_mode": {
    "name": "ipython",
    "version": 3
   },
   "file_extension": ".py",
   "mimetype": "text/x-python",
   "name": "python",
   "nbconvert_exporter": "python",
   "pygments_lexer": "ipython3",
   "version": "3.10.12"
  }
 },
 "nbformat": 4,
 "nbformat_minor": 2
}
